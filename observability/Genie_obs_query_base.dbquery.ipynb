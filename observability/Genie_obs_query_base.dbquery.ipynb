{
 "cells": [
  {
   "cell_type": "code",
   "execution_count": 0,
   "metadata": {
    "application/vnd.databricks.v1+cell": {
     "cellMetadata": {},
     "inputWidgets": {},
     "nuid": "0a08f00d-240e-4f43-b77f-9ee59a2d1976",
     "showTitle": false,
     "tableResultSettingsMap": {},
     "title": ""
    }
   },
   "outputs": [],
   "source": [
    "CREATE OR REPLACE MATERIALIZED VIEW leigh_robertson_demo.observability.tables_columns_genie\n",
    "SCHEDULE EVERY 4 HOURS\n",
    "TBLPROPERTIES ('pipelines.autoOptimize.zOrderCols'= 'table_catalog,table_name, table_schema, column_name')\n",
    "COMMENT 'All tables and columns in a single table'\n",
    "AS \n",
    "SELECT tables.table_catalog,\n",
    "tables.table_schema,\n",
    "tables.table_name,\n",
    "tables.table_type,\n",
    "tables.table_owner,\n",
    "tables.comment AS table_comment,\n",
    "tables.created,\n",
    "tables.created_by,\n",
    "tables.last_altered,\n",
    "tables.last_altered_by,\n",
    "columns.column_name,\n",
    "columns.data_type,\n",
    "columns.comment AS column_comment\n",
    "FROM system.information_schema.tables AS tables\n",
    "INNER JOIN system.information_schema.columns AS columns\n",
    "ON tables.table_name = columns.table_name\n",
    "AND tables.table_schema = columns.table_schema\n",
    "AND tables.table_catalog = columns.table_catalog\n",
    "WHERE\n",
    "  tables.table_catalog != '__databricks_internal'"
   ]
  }
 ],
 "metadata": {
  "application/vnd.databricks.v1+notebook": {
   "computePreferences": null,
   "dashboards": [],
   "environmentMetadata": null,
   "inputWidgetPreferences": null,
   "language": "sql",
   "notebookMetadata": {
    "sqlQueryOptions": {
     "applyAutoLimit": true,
     "catalog": "main",
     "schema": "default"
    }
   },
   "notebookName": "Genie_obs_query_base.dbquery.ipynb",
   "widgets": {}
  },
  "language_info": {
   "name": "sql"
  }
 },
 "nbformat": 4,
 "nbformat_minor": 0
}
